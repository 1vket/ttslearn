{
 "cells": [
  {
   "cell_type": "markdown",
   "id": "e7be3a35",
   "metadata": {},
   "source": [
    "# Advanced TTS demos"
   ]
  },
  {
   "cell_type": "markdown",
   "id": "d787036d",
   "metadata": {},
   "source": [
    "[![Open In Colab](https://colab.research.google.com/assets/colab-badge.svg)](http://colab.research.google.com/github/r9y9/blob/master/notebooks/ch11_Advanced-demos.ipynb)\n",
    "\n",
    "このページ（ノートブック形式）では、第11章で少し触れた「非自己回帰型ニューラルボコーダ」を用いた、発展的な音声合成のデモを示します。\n",
    "書籍ではJSUTコーパスのみを扱いましたが、ここではJVSコーパスを利用した多話者音声合成のデモも紹介します。\n",
    "\n",
    "非自己回帰型ニューラルボコーダの実装には、[kan-bayashi/ParallelWaveGAN](https://github.com/kan-bayashi/ParallelWaveGAN) を利用します。\n",
    "多話者音声合成の実装は、書籍では実装の解説はしていませんが、第9章、第10章の内容に、軽微な修正を加えることで実現可能です。\n",
    "興味のある読者は、extra_recipes のソースコードを参照してください。"
   ]
  },
  {
   "cell_type": "markdown",
   "id": "887d30e0",
   "metadata": {},
   "source": [
    "## 準備"
   ]
  },
  {
   "cell_type": "markdown",
   "id": "99decb5e",
   "metadata": {},
   "source": [
    "### ttslearn のインストール"
   ]
  },
  {
   "cell_type": "code",
   "execution_count": null,
   "id": "067027b3",
   "metadata": {},
   "outputs": [],
   "source": [
    "%%capture\n",
    "try:\n",
    "    import ttslearn\n",
    "except ImportError:\n",
    "    !pip install ttslearn"
   ]
  },
  {
   "cell_type": "code",
   "execution_count": null,
   "id": "cd495743",
   "metadata": {},
   "outputs": [],
   "source": [
    "import ttslearn\n",
    "ttslearn.__version__"
   ]
  },
  {
   "cell_type": "markdown",
   "id": "93a08220",
   "metadata": {},
   "source": [
    "### パッケージのインポート"
   ]
  },
  {
   "cell_type": "code",
   "execution_count": null,
   "id": "f6f1e697",
   "metadata": {},
   "outputs": [],
   "source": [
    "%pylab inline\n",
    "import IPython\n",
    "from IPython.display import Audio\n",
    "import librosa\n",
    "import librosa.display\n",
    "from tqdm.notebook import tqdm\n",
    "import torch\n",
    "import random"
   ]
  },
  {
   "cell_type": "markdown",
   "id": "3b74b11b",
   "metadata": {},
   "source": [
    "## Tacotron + Parallel WaveGAN (JSUTコーパス, 16kHz）"
   ]
  },
  {
   "cell_type": "code",
   "execution_count": null,
   "id": "df6e22bc",
   "metadata": {},
   "outputs": [],
   "source": [
    "from ttslearn.contrib import Tacotron2PWGTTS\n",
    "\n",
    "if torch.cuda.is_available():\n",
    "    device = torch.device(\"cuda\")\n",
    "else:\n",
    "    device = torch.device(\"cpu\")\n",
    "print(\"Device:\", device)\n",
    "\n",
    "pwg_engine = Tacotron2PWGTTS(device=device)\n",
    "\n",
    "%time wav, sr = pwg_engine.tts(\"あらゆる現実を、すべて自分のほうへねじ曲げたのだ。\")\n",
    "IPython.display.display(Audio(wav, rate=sr))"
   ]
  },
  {
   "cell_type": "markdown",
   "id": "27996579",
   "metadata": {},
   "source": [
    "## Tacotron + Parallel WaveGAN (JSUTコーパス, 24kHz）"
   ]
  },
  {
   "cell_type": "code",
   "execution_count": null,
   "id": "3c61c791",
   "metadata": {},
   "outputs": [],
   "source": [
    "from ttslearn.pretrained import create_tts_engine\n",
    "\n",
    "pwg_engine = create_tts_engine(\"tacotron2_pwg_jsut24k\", device=device)\n",
    "\n",
    "%time wav, sr = pwg_engine.tts(\"あらゆる現実を、すべて自分のほうへねじ曲げたのだ。\")\n",
    "IPython.display.display(Audio(wav, rate=sr))"
   ]
  },
  {
   "cell_type": "markdown",
   "id": "3f511a25",
   "metadata": {},
   "source": [
    "## Multi-speaker Tacotron + Parallel WaveGAN (JVSコーパス, 16kHz）"
   ]
  },
  {
   "cell_type": "code",
   "execution_count": null,
   "id": "47b8df9a",
   "metadata": {},
   "outputs": [],
   "source": [
    "pwg_engine = create_tts_engine(\"multspk_tacotron2_pwg_jvs16k\", device=device)\n",
    "for spk in [\"jvs001\", \"jvs010\", \"jvs030\", \"jvs050\", \"jvs100\"]:\n",
    "    text = \"タコスと寿司、あなたはどっちが好きですか？わたしは\" + (\"寿司\" if random.random() > 0.2 else \"タコス\") + \"が好きです。\"\n",
    "    wav, sr = pwg_engine.tts(text, spk_id=pwg_engine.spk2id[spk])\n",
    "    print(f\"Speaker: {spk}\")\n",
    "    print(text)\n",
    "    IPython.display.display(Audio(wav, rate=sr))"
   ]
  },
  {
   "cell_type": "markdown",
   "id": "3eae9a23",
   "metadata": {},
   "source": [
    "## Multi-speaker Tacotron + Parallel WaveGAN (JVSコーパス, 24kHz）"
   ]
  },
  {
   "cell_type": "code",
   "execution_count": null,
   "id": "7b29e9b7",
   "metadata": {},
   "outputs": [],
   "source": [
    "pwg_engine = create_tts_engine(\"multspk_tacotron2_pwg_jvs24k\", device=device)\n",
    "for spk in [\"jvs001\", \"jvs010\", \"jvs030\", \"jvs050\", \"jvs100\"]:\n",
    "    text = \"タコスと寿司、あなたはどっちが好きですか？わたしは\" + (\"寿司\" if random.random() > 0.2 else \"タコス\") + \"が好きです。\"\n",
    "    wav, sr = pwg_engine.tts(text, spk_id=pwg_engine.spk2id[spk])\n",
    "    print(f\"Speaker: {spk}\")\n",
    "    print(text)\n",
    "    IPython.display.display(Audio(wav, rate=sr))"
   ]
  },
  {
   "cell_type": "markdown",
   "id": "acb96a07",
   "metadata": {},
   "source": [
    "## 参考\n",
    "\n",
    "- Parallel WaveGAN: https://arxiv.org/abs/1910.11480\n",
    "- Parallel WaveGANを含むGANベースの非自己回帰型ニューラルボコーダの実装: https://github.com/kan-bayashi/ParallelWaveGAN"
   ]
  }
 ],
 "metadata": {
  "kernelspec": {
   "display_name": "Python 3",
   "language": "python",
   "name": "python3"
  },
  "language_info": {
   "codemirror_mode": {
    "name": "ipython",
    "version": 3
   },
   "file_extension": ".py",
   "mimetype": "text/x-python",
   "name": "python",
   "nbconvert_exporter": "python",
   "pygments_lexer": "ipython3",
   "version": "3.7.7"
  }
 },
 "nbformat": 4,
 "nbformat_minor": 5
}
